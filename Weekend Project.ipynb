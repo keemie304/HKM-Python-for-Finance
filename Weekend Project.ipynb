{
 "cells": [
  {
   "cell_type": "code",
   "execution_count": 344,
   "id": "f560a914-c7a7-4de5-8f2e-449b9975b764",
   "metadata": {},
   "outputs": [
    {
     "name": "stdin",
     "output_type": "stream",
     "text": [
      "For what ticker do you want historical data for? nvda\n"
     ]
    },
    {
     "name": "stdout",
     "output_type": "stream",
     "text": [
      "You have selected the ticker: NVDA.\n"
     ]
    },
    {
     "name": "stdin",
     "output_type": "stream",
     "text": [
      "For how long would you like to compute the volatility for? 1y\n"
     ]
    },
    {
     "name": "stdout",
     "output_type": "stream",
     "text": [
      "This program will now compute the volatility of NVDA for a period of 1y which is approximately 365 days.\n"
     ]
    },
    {
     "name": "stderr",
     "output_type": "stream",
     "text": [
      "[*********************100%***********************]  1 of 1 completed"
     ]
    },
    {
     "name": "stdout",
     "output_type": "stream",
     "text": [
      "                  Open        High         Low       Close   Adj Close  \\\n",
      "Date                                                                     \n",
      "2024-10-18  138.669998  138.899994  137.279999  138.000000  138.000000   \n",
      "2024-10-17  139.339996  140.889999  136.869995  136.929993  136.929993   \n",
      "2024-10-16  133.979996  136.619995  131.580002  135.720001  135.720001   \n",
      "2024-10-15  137.869995  138.570007  128.740005  131.600006  131.600006   \n",
      "2024-10-14  136.470001  139.600006  136.300003  138.070007  138.070007   \n",
      "\n",
      "               Volume  Log Returns  \n",
      "Date                                \n",
      "2024-10-18  175800600          NaN  \n",
      "2024-10-17  306435900    -0.007784  \n",
      "2024-10-16  264879700    -0.008876  \n",
      "2024-10-15  377831000    -0.030827  \n",
      "2024-10-14  232347700     0.047994  \n",
      "\n",
      "Below is a line graph charting the adjusted close prices of NVDA for a period of 1y\n"
     ]
    },
    {
     "name": "stderr",
     "output_type": "stream",
     "text": [
      "\n"
     ]
    },
    {
     "data": {
      "application/vnd.plotly.v1+json": {
       "config": {
        "plotlyServerURL": "https://plot.ly"
       },
       "data": [
        {
         "hovertemplate": "Date=%{x}<br>Adjusted Close Price=%{y}<extra></extra>",
         "legendgroup": "",
         "line": {
          "color": "#636efa",
          "dash": "solid"
         },
         "marker": {
          "symbol": "circle"
         },
         "mode": "lines",
         "name": "",
         "orientation": "v",
         "showlegend": false,
         "type": "scatter",
         "x": [
          "2024-10-18T00:00:00",
          "2024-10-17T00:00:00",
          "2024-10-16T00:00:00",
          "2024-10-15T00:00:00",
          "2024-10-14T00:00:00",
          "2024-10-11T00:00:00",
          "2024-10-10T00:00:00",
          "2024-10-09T00:00:00",
          "2024-10-08T00:00:00",
          "2024-10-07T00:00:00",
          "2024-10-04T00:00:00",
          "2024-10-03T00:00:00",
          "2024-10-02T00:00:00",
          "2024-10-01T00:00:00",
          "2024-09-30T00:00:00",
          "2024-09-27T00:00:00",
          "2024-09-26T00:00:00",
          "2024-09-25T00:00:00",
          "2024-09-24T00:00:00",
          "2024-09-23T00:00:00",
          "2024-09-20T00:00:00",
          "2024-09-19T00:00:00",
          "2024-09-18T00:00:00",
          "2024-09-17T00:00:00",
          "2024-09-16T00:00:00",
          "2024-09-13T00:00:00",
          "2024-09-12T00:00:00",
          "2024-09-11T00:00:00",
          "2024-09-10T00:00:00",
          "2024-09-09T00:00:00",
          "2024-09-06T00:00:00",
          "2024-09-05T00:00:00",
          "2024-09-04T00:00:00",
          "2024-09-03T00:00:00",
          "2024-08-30T00:00:00",
          "2024-08-29T00:00:00",
          "2024-08-28T00:00:00",
          "2024-08-27T00:00:00",
          "2024-08-26T00:00:00",
          "2024-08-23T00:00:00",
          "2024-08-22T00:00:00",
          "2024-08-21T00:00:00",
          "2024-08-20T00:00:00",
          "2024-08-19T00:00:00",
          "2024-08-16T00:00:00",
          "2024-08-15T00:00:00",
          "2024-08-14T00:00:00",
          "2024-08-13T00:00:00",
          "2024-08-12T00:00:00",
          "2024-08-09T00:00:00",
          "2024-08-08T00:00:00",
          "2024-08-07T00:00:00",
          "2024-08-06T00:00:00",
          "2024-08-05T00:00:00",
          "2024-08-02T00:00:00",
          "2024-08-01T00:00:00",
          "2024-07-31T00:00:00",
          "2024-07-30T00:00:00",
          "2024-07-29T00:00:00",
          "2024-07-26T00:00:00",
          "2024-07-25T00:00:00",
          "2024-07-24T00:00:00",
          "2024-07-23T00:00:00",
          "2024-07-22T00:00:00",
          "2024-07-19T00:00:00",
          "2024-07-18T00:00:00",
          "2024-07-17T00:00:00",
          "2024-07-16T00:00:00",
          "2024-07-15T00:00:00",
          "2024-07-12T00:00:00",
          "2024-07-11T00:00:00",
          "2024-07-10T00:00:00",
          "2024-07-09T00:00:00",
          "2024-07-08T00:00:00",
          "2024-07-05T00:00:00",
          "2024-07-03T00:00:00",
          "2024-07-02T00:00:00",
          "2024-07-01T00:00:00",
          "2024-06-28T00:00:00",
          "2024-06-27T00:00:00",
          "2024-06-26T00:00:00",
          "2024-06-25T00:00:00",
          "2024-06-24T00:00:00",
          "2024-06-21T00:00:00",
          "2024-06-20T00:00:00",
          "2024-06-18T00:00:00",
          "2024-06-17T00:00:00",
          "2024-06-14T00:00:00",
          "2024-06-13T00:00:00",
          "2024-06-12T00:00:00",
          "2024-06-11T00:00:00",
          "2024-06-10T00:00:00",
          "2024-06-07T00:00:00",
          "2024-06-06T00:00:00",
          "2024-06-05T00:00:00",
          "2024-06-04T00:00:00",
          "2024-06-03T00:00:00",
          "2024-05-31T00:00:00",
          "2024-05-30T00:00:00",
          "2024-05-29T00:00:00",
          "2024-05-28T00:00:00",
          "2024-05-24T00:00:00",
          "2024-05-23T00:00:00",
          "2024-05-22T00:00:00",
          "2024-05-21T00:00:00",
          "2024-05-20T00:00:00",
          "2024-05-17T00:00:00",
          "2024-05-16T00:00:00",
          "2024-05-15T00:00:00",
          "2024-05-14T00:00:00",
          "2024-05-13T00:00:00",
          "2024-05-10T00:00:00",
          "2024-05-09T00:00:00",
          "2024-05-08T00:00:00",
          "2024-05-07T00:00:00",
          "2024-05-06T00:00:00",
          "2024-05-03T00:00:00",
          "2024-05-02T00:00:00",
          "2024-05-01T00:00:00",
          "2024-04-30T00:00:00",
          "2024-04-29T00:00:00",
          "2024-04-26T00:00:00",
          "2024-04-25T00:00:00",
          "2024-04-24T00:00:00",
          "2024-04-23T00:00:00",
          "2024-04-22T00:00:00",
          "2024-04-19T00:00:00",
          "2024-04-18T00:00:00",
          "2024-04-17T00:00:00",
          "2024-04-16T00:00:00",
          "2024-04-15T00:00:00",
          "2024-04-12T00:00:00",
          "2024-04-11T00:00:00",
          "2024-04-10T00:00:00",
          "2024-04-09T00:00:00",
          "2024-04-08T00:00:00",
          "2024-04-05T00:00:00",
          "2024-04-04T00:00:00",
          "2024-04-03T00:00:00",
          "2024-04-02T00:00:00",
          "2024-04-01T00:00:00",
          "2024-03-28T00:00:00",
          "2024-03-27T00:00:00",
          "2024-03-26T00:00:00",
          "2024-03-25T00:00:00",
          "2024-03-22T00:00:00",
          "2024-03-21T00:00:00",
          "2024-03-20T00:00:00",
          "2024-03-19T00:00:00",
          "2024-03-18T00:00:00",
          "2024-03-15T00:00:00",
          "2024-03-14T00:00:00",
          "2024-03-13T00:00:00",
          "2024-03-12T00:00:00",
          "2024-03-11T00:00:00",
          "2024-03-08T00:00:00",
          "2024-03-07T00:00:00",
          "2024-03-06T00:00:00",
          "2024-03-05T00:00:00",
          "2024-03-04T00:00:00",
          "2024-03-01T00:00:00",
          "2024-02-29T00:00:00",
          "2024-02-28T00:00:00",
          "2024-02-27T00:00:00",
          "2024-02-26T00:00:00",
          "2024-02-23T00:00:00",
          "2024-02-22T00:00:00",
          "2024-02-21T00:00:00",
          "2024-02-20T00:00:00",
          "2024-02-16T00:00:00",
          "2024-02-15T00:00:00",
          "2024-02-14T00:00:00",
          "2024-02-13T00:00:00",
          "2024-02-12T00:00:00",
          "2024-02-09T00:00:00",
          "2024-02-08T00:00:00",
          "2024-02-07T00:00:00",
          "2024-02-06T00:00:00",
          "2024-02-05T00:00:00",
          "2024-02-02T00:00:00",
          "2024-02-01T00:00:00",
          "2024-01-31T00:00:00",
          "2024-01-30T00:00:00",
          "2024-01-29T00:00:00",
          "2024-01-26T00:00:00",
          "2024-01-25T00:00:00",
          "2024-01-24T00:00:00",
          "2024-01-23T00:00:00",
          "2024-01-22T00:00:00",
          "2024-01-19T00:00:00",
          "2024-01-18T00:00:00",
          "2024-01-17T00:00:00",
          "2024-01-16T00:00:00",
          "2024-01-12T00:00:00",
          "2024-01-11T00:00:00",
          "2024-01-10T00:00:00",
          "2024-01-09T00:00:00",
          "2024-01-08T00:00:00",
          "2024-01-05T00:00:00",
          "2024-01-04T00:00:00",
          "2024-01-03T00:00:00",
          "2024-01-02T00:00:00",
          "2023-12-29T00:00:00",
          "2023-12-28T00:00:00",
          "2023-12-27T00:00:00",
          "2023-12-26T00:00:00",
          "2023-12-22T00:00:00",
          "2023-12-21T00:00:00",
          "2023-12-20T00:00:00",
          "2023-12-19T00:00:00",
          "2023-12-18T00:00:00",
          "2023-12-15T00:00:00",
          "2023-12-14T00:00:00",
          "2023-12-13T00:00:00",
          "2023-12-12T00:00:00",
          "2023-12-11T00:00:00",
          "2023-12-08T00:00:00",
          "2023-12-07T00:00:00",
          "2023-12-06T00:00:00",
          "2023-12-05T00:00:00",
          "2023-12-04T00:00:00",
          "2023-12-01T00:00:00",
          "2023-11-30T00:00:00",
          "2023-11-29T00:00:00",
          "2023-11-28T00:00:00",
          "2023-11-27T00:00:00",
          "2023-11-24T00:00:00",
          "2023-11-22T00:00:00",
          "2023-11-21T00:00:00",
          "2023-11-20T00:00:00",
          "2023-11-17T00:00:00",
          "2023-11-16T00:00:00",
          "2023-11-15T00:00:00",
          "2023-11-14T00:00:00",
          "2023-11-13T00:00:00",
          "2023-11-10T00:00:00",
          "2023-11-09T00:00:00",
          "2023-11-08T00:00:00",
          "2023-11-07T00:00:00",
          "2023-11-06T00:00:00",
          "2023-11-03T00:00:00",
          "2023-11-02T00:00:00",
          "2023-11-01T00:00:00",
          "2023-10-31T00:00:00",
          "2023-10-30T00:00:00",
          "2023-10-27T00:00:00",
          "2023-10-26T00:00:00",
          "2023-10-25T00:00:00",
          "2023-10-24T00:00:00",
          "2023-10-23T00:00:00",
          "2023-10-20T00:00:00",
          "2023-10-19T00:00:00"
         ],
         "xaxis": "x",
         "y": [
          138,
          136.92999267578125,
          135.72000122070312,
          131.60000610351562,
          138.07000732421875,
          134.8000030517578,
          134.80999755859375,
          132.64999389648438,
          132.88999938964844,
          127.72000122070312,
          124.91999816894531,
          122.8499984741211,
          118.8499984741211,
          117,
          121.44000244140625,
          121.4000015258789,
          124.04000091552734,
          123.51000213623047,
          120.87000274658203,
          116.26000213623047,
          116,
          117.87000274658203,
          113.37000274658203,
          115.58999633789062,
          116.77999877929688,
          119.0999984741211,
          119.13999938964844,
          116.9000015258789,
          108.09075164794922,
          106.46089172363281,
          102.82120513916016,
          107.2008285522461,
          106.20091247558594,
          107.99076080322266,
          119.35979461669922,
          117.57994079589844,
          125.59925842285156,
          128.28903198242188,
          126.44918060302734,
          129.3589324951172,
          123.72941589355469,
          128.489013671875,
          127.2391128540039,
          129.98887634277344,
          124.56934356689453,
          122.84949493408203,
          118.06990051269531,
          116.13006591796875,
          109.01067352294922,
          104.74104309082031,
          104.96102142333984,
          98.90154266357422,
          104.24108123779297,
          100.44140625,
          107.26081848144531,
          109.2006607055664,
          117.0099868774414,
          103.72113037109375,
          111.58045196533203,
          113.05032348632812,
          112.27039337158203,
          114.24022674560547,
          122.57951354980469,
          123.52943420410156,
          117.91991424560547,
          121.07963562011719,
          117.97990417480469,
          126.34918975830078,
          128.42901611328125,
          129.2289581298828,
          127.38910675048828,
          134.89846801757812,
          131.3687744140625,
          128.18902587890625,
          125.8192367553711,
          128.26902770996094,
          122.65950775146484,
          124.28936767578125,
          123.52943420410156,
          123.9793930053711,
          126.38919067382812,
          126.07920837402344,
          118.09989929199219,
          126.55917358398438,
          130.76881408691406,
          135.5684051513672,
          130.9687957763672,
          131.8687286376953,
          129.59890747070312,
          125.18928527832031,
          120.899658203125,
          121.76958465576172,
          120.86773681640625,
          120.97770690917969,
          122.41947174072266,
          116.41748046875,
          114.98072052001953,
          109.6146240234375,
          110.48147583007812,
          114.80574798583984,
          113.88190460205078,
          106.4511489868164,
          103.78160095214844,
          94.93408203125,
          95.37001037597656,
          94.76410675048828,
          92.46348571777344,
          94.34317779541016,
          94.61412811279297,
          91.34069061279297,
          90.38385009765625,
          89.86292266845703,
          88.73212432861328,
          90.39684295654297,
          90.538818359375,
          92.12454986572266,
          88.77411651611328,
          85.8026123046875,
          83.0270767211914,
          86.38751220703125,
          87.7422866821289,
          87.72029113769531,
          82.61814880371094,
          79.66364288330078,
          82.4091796875,
          79.50466918945312,
          76.18722534179688,
          84.65680694580078,
          84.02091217041016,
          87.40034484863281,
          85.98657989501953,
          88.17121124267578,
          90.6008071899414,
          87.02440643310547,
          85.33968353271484,
          87.11839294433594,
          87.99324798583984,
          85.89059448242188,
          88.94908142089844,
          89.43700408935547,
          90.34784698486328,
          90.34085083007812,
          90.23486328125,
          92.54547882080078,
          94.98606872558594,
          94.273193359375,
          91.41967010498047,
          90.35684967041016,
          89.38301849365234,
          88.44017028808594,
          87.822265625,
          87.92925262451172,
          90.87276458740234,
          91.89759826660156,
          85.7596206665039,
          87.5133285522461,
          92.65345764160156,
          88.68512725830078,
          85.9495849609375,
          85.21870422363281,
          82.26134490966797,
          79.09502410888672,
          77.6463394165039,
          78.68411254882812,
          79.07503509521484,
          78.80008697509766,
          78.52115631103516,
          67.45752716064453,
          69.43709564208984,
          72.59741973876953,
          72.64240264892578,
          73.8841552734375,
          72.1125259399414,
          72.23249816894531,
          72.1175308227539,
          69.62605285644531,
          70.08395385742188,
          68.20836639404297,
          69.31713104248047,
          66.14580535888672,
          63.01347732543945,
          61.5137939453125,
          62.760528564453125,
          62.451595306396484,
          61.017906188964844,
          61.60377502441406,
          61.34883499145508,
          59.86015701293945,
          59.64120101928711,
          59.47823715209961,
          57.094749450683594,
          56.04097366333008,
          56.369903564453125,
          54.69825744628906,
          54.810237884521484,
          54.33833694458008,
          53.12860107421875,
          52.24178695678711,
          49.086463928222656,
          47.98770523071289,
          47.55879211425781,
          48.15766525268555,
          49.511375427246094,
          49.511375427246094,
          49.406394958496094,
          49.26842498779297,
          48.81952667236328,
          48.9794921875,
          48.10067367553711,
          49.59335708618164,
          50.066253662109375,
          48.87950897216797,
          48.339622497558594,
          48.07768630981445,
          47.64677429199219,
          46.61699676513672,
          47.49580764770508,
          46.586002349853516,
          45.49323654174805,
          46.55601119995117,
          45.49623107910156,
          46.750850677490234,
          46.75585174560547,
          48.12544250488281,
          47.80653762817383,
          48.22740936279297,
          47.76155471801758,
          48.701263427734375,
          49.92889404296875,
          50.39375305175781,
          49.2830924987793,
          49.46503829956055,
          48.87321472167969,
          49.6409797668457,
          48.60529327392578,
          48.32038116455078,
          46.93579864501953,
          46.559913635253906,
          45.941104888916016,
          45.737159729003906,
          44.991390228271484,
          43.49283981323242,
          42.31220245361328,
          40.76766586303711,
          41.1485481262207,
          40.48775100708008,
          40.313804626464844,
          41.766361236572266,
          43.6497917175293,
          42.96200180053711,
          41.374481201171875,
          42.0882682800293
         ],
         "yaxis": "y"
        }
       ],
       "layout": {
        "autosize": true,
        "legend": {
         "tracegroupgap": 0
        },
        "template": {
         "data": {
          "bar": [
           {
            "error_x": {
             "color": "#2a3f5f"
            },
            "error_y": {
             "color": "#2a3f5f"
            },
            "marker": {
             "line": {
              "color": "#E5ECF6",
              "width": 0.5
             },
             "pattern": {
              "fillmode": "overlay",
              "size": 10,
              "solidity": 0.2
             }
            },
            "type": "bar"
           }
          ],
          "barpolar": [
           {
            "marker": {
             "line": {
              "color": "#E5ECF6",
              "width": 0.5
             },
             "pattern": {
              "fillmode": "overlay",
              "size": 10,
              "solidity": 0.2
             }
            },
            "type": "barpolar"
           }
          ],
          "carpet": [
           {
            "aaxis": {
             "endlinecolor": "#2a3f5f",
             "gridcolor": "white",
             "linecolor": "white",
             "minorgridcolor": "white",
             "startlinecolor": "#2a3f5f"
            },
            "baxis": {
             "endlinecolor": "#2a3f5f",
             "gridcolor": "white",
             "linecolor": "white",
             "minorgridcolor": "white",
             "startlinecolor": "#2a3f5f"
            },
            "type": "carpet"
           }
          ],
          "choropleth": [
           {
            "colorbar": {
             "outlinewidth": 0,
             "ticks": ""
            },
            "type": "choropleth"
           }
          ],
          "contour": [
           {
            "colorbar": {
             "outlinewidth": 0,
             "ticks": ""
            },
            "colorscale": [
             [
              0,
              "#0d0887"
             ],
             [
              0.1111111111111111,
              "#46039f"
             ],
             [
              0.2222222222222222,
              "#7201a8"
             ],
             [
              0.3333333333333333,
              "#9c179e"
             ],
             [
              0.4444444444444444,
              "#bd3786"
             ],
             [
              0.5555555555555556,
              "#d8576b"
             ],
             [
              0.6666666666666666,
              "#ed7953"
             ],
             [
              0.7777777777777778,
              "#fb9f3a"
             ],
             [
              0.8888888888888888,
              "#fdca26"
             ],
             [
              1,
              "#f0f921"
             ]
            ],
            "type": "contour"
           }
          ],
          "contourcarpet": [
           {
            "colorbar": {
             "outlinewidth": 0,
             "ticks": ""
            },
            "type": "contourcarpet"
           }
          ],
          "heatmap": [
           {
            "colorbar": {
             "outlinewidth": 0,
             "ticks": ""
            },
            "colorscale": [
             [
              0,
              "#0d0887"
             ],
             [
              0.1111111111111111,
              "#46039f"
             ],
             [
              0.2222222222222222,
              "#7201a8"
             ],
             [
              0.3333333333333333,
              "#9c179e"
             ],
             [
              0.4444444444444444,
              "#bd3786"
             ],
             [
              0.5555555555555556,
              "#d8576b"
             ],
             [
              0.6666666666666666,
              "#ed7953"
             ],
             [
              0.7777777777777778,
              "#fb9f3a"
             ],
             [
              0.8888888888888888,
              "#fdca26"
             ],
             [
              1,
              "#f0f921"
             ]
            ],
            "type": "heatmap"
           }
          ],
          "heatmapgl": [
           {
            "colorbar": {
             "outlinewidth": 0,
             "ticks": ""
            },
            "colorscale": [
             [
              0,
              "#0d0887"
             ],
             [
              0.1111111111111111,
              "#46039f"
             ],
             [
              0.2222222222222222,
              "#7201a8"
             ],
             [
              0.3333333333333333,
              "#9c179e"
             ],
             [
              0.4444444444444444,
              "#bd3786"
             ],
             [
              0.5555555555555556,
              "#d8576b"
             ],
             [
              0.6666666666666666,
              "#ed7953"
             ],
             [
              0.7777777777777778,
              "#fb9f3a"
             ],
             [
              0.8888888888888888,
              "#fdca26"
             ],
             [
              1,
              "#f0f921"
             ]
            ],
            "type": "heatmapgl"
           }
          ],
          "histogram": [
           {
            "marker": {
             "pattern": {
              "fillmode": "overlay",
              "size": 10,
              "solidity": 0.2
             }
            },
            "type": "histogram"
           }
          ],
          "histogram2d": [
           {
            "colorbar": {
             "outlinewidth": 0,
             "ticks": ""
            },
            "colorscale": [
             [
              0,
              "#0d0887"
             ],
             [
              0.1111111111111111,
              "#46039f"
             ],
             [
              0.2222222222222222,
              "#7201a8"
             ],
             [
              0.3333333333333333,
              "#9c179e"
             ],
             [
              0.4444444444444444,
              "#bd3786"
             ],
             [
              0.5555555555555556,
              "#d8576b"
             ],
             [
              0.6666666666666666,
              "#ed7953"
             ],
             [
              0.7777777777777778,
              "#fb9f3a"
             ],
             [
              0.8888888888888888,
              "#fdca26"
             ],
             [
              1,
              "#f0f921"
             ]
            ],
            "type": "histogram2d"
           }
          ],
          "histogram2dcontour": [
           {
            "colorbar": {
             "outlinewidth": 0,
             "ticks": ""
            },
            "colorscale": [
             [
              0,
              "#0d0887"
             ],
             [
              0.1111111111111111,
              "#46039f"
             ],
             [
              0.2222222222222222,
              "#7201a8"
             ],
             [
              0.3333333333333333,
              "#9c179e"
             ],
             [
              0.4444444444444444,
              "#bd3786"
             ],
             [
              0.5555555555555556,
              "#d8576b"
             ],
             [
              0.6666666666666666,
              "#ed7953"
             ],
             [
              0.7777777777777778,
              "#fb9f3a"
             ],
             [
              0.8888888888888888,
              "#fdca26"
             ],
             [
              1,
              "#f0f921"
             ]
            ],
            "type": "histogram2dcontour"
           }
          ],
          "mesh3d": [
           {
            "colorbar": {
             "outlinewidth": 0,
             "ticks": ""
            },
            "type": "mesh3d"
           }
          ],
          "parcoords": [
           {
            "line": {
             "colorbar": {
              "outlinewidth": 0,
              "ticks": ""
             }
            },
            "type": "parcoords"
           }
          ],
          "pie": [
           {
            "automargin": true,
            "type": "pie"
           }
          ],
          "scatter": [
           {
            "fillpattern": {
             "fillmode": "overlay",
             "size": 10,
             "solidity": 0.2
            },
            "type": "scatter"
           }
          ],
          "scatter3d": [
           {
            "line": {
             "colorbar": {
              "outlinewidth": 0,
              "ticks": ""
             }
            },
            "marker": {
             "colorbar": {
              "outlinewidth": 0,
              "ticks": ""
             }
            },
            "type": "scatter3d"
           }
          ],
          "scattercarpet": [
           {
            "marker": {
             "colorbar": {
              "outlinewidth": 0,
              "ticks": ""
             }
            },
            "type": "scattercarpet"
           }
          ],
          "scattergeo": [
           {
            "marker": {
             "colorbar": {
              "outlinewidth": 0,
              "ticks": ""
             }
            },
            "type": "scattergeo"
           }
          ],
          "scattergl": [
           {
            "marker": {
             "colorbar": {
              "outlinewidth": 0,
              "ticks": ""
             }
            },
            "type": "scattergl"
           }
          ],
          "scattermapbox": [
           {
            "marker": {
             "colorbar": {
              "outlinewidth": 0,
              "ticks": ""
             }
            },
            "type": "scattermapbox"
           }
          ],
          "scatterpolar": [
           {
            "marker": {
             "colorbar": {
              "outlinewidth": 0,
              "ticks": ""
             }
            },
            "type": "scatterpolar"
           }
          ],
          "scatterpolargl": [
           {
            "marker": {
             "colorbar": {
              "outlinewidth": 0,
              "ticks": ""
             }
            },
            "type": "scatterpolargl"
           }
          ],
          "scatterternary": [
           {
            "marker": {
             "colorbar": {
              "outlinewidth": 0,
              "ticks": ""
             }
            },
            "type": "scatterternary"
           }
          ],
          "surface": [
           {
            "colorbar": {
             "outlinewidth": 0,
             "ticks": ""
            },
            "colorscale": [
             [
              0,
              "#0d0887"
             ],
             [
              0.1111111111111111,
              "#46039f"
             ],
             [
              0.2222222222222222,
              "#7201a8"
             ],
             [
              0.3333333333333333,
              "#9c179e"
             ],
             [
              0.4444444444444444,
              "#bd3786"
             ],
             [
              0.5555555555555556,
              "#d8576b"
             ],
             [
              0.6666666666666666,
              "#ed7953"
             ],
             [
              0.7777777777777778,
              "#fb9f3a"
             ],
             [
              0.8888888888888888,
              "#fdca26"
             ],
             [
              1,
              "#f0f921"
             ]
            ],
            "type": "surface"
           }
          ],
          "table": [
           {
            "cells": {
             "fill": {
              "color": "#EBF0F8"
             },
             "line": {
              "color": "white"
             }
            },
            "header": {
             "fill": {
              "color": "#C8D4E3"
             },
             "line": {
              "color": "white"
             }
            },
            "type": "table"
           }
          ]
         },
         "layout": {
          "annotationdefaults": {
           "arrowcolor": "#2a3f5f",
           "arrowhead": 0,
           "arrowwidth": 1
          },
          "autotypenumbers": "strict",
          "coloraxis": {
           "colorbar": {
            "outlinewidth": 0,
            "ticks": ""
           }
          },
          "colorscale": {
           "diverging": [
            [
             0,
             "#8e0152"
            ],
            [
             0.1,
             "#c51b7d"
            ],
            [
             0.2,
             "#de77ae"
            ],
            [
             0.3,
             "#f1b6da"
            ],
            [
             0.4,
             "#fde0ef"
            ],
            [
             0.5,
             "#f7f7f7"
            ],
            [
             0.6,
             "#e6f5d0"
            ],
            [
             0.7,
             "#b8e186"
            ],
            [
             0.8,
             "#7fbc41"
            ],
            [
             0.9,
             "#4d9221"
            ],
            [
             1,
             "#276419"
            ]
           ],
           "sequential": [
            [
             0,
             "#0d0887"
            ],
            [
             0.1111111111111111,
             "#46039f"
            ],
            [
             0.2222222222222222,
             "#7201a8"
            ],
            [
             0.3333333333333333,
             "#9c179e"
            ],
            [
             0.4444444444444444,
             "#bd3786"
            ],
            [
             0.5555555555555556,
             "#d8576b"
            ],
            [
             0.6666666666666666,
             "#ed7953"
            ],
            [
             0.7777777777777778,
             "#fb9f3a"
            ],
            [
             0.8888888888888888,
             "#fdca26"
            ],
            [
             1,
             "#f0f921"
            ]
           ],
           "sequentialminus": [
            [
             0,
             "#0d0887"
            ],
            [
             0.1111111111111111,
             "#46039f"
            ],
            [
             0.2222222222222222,
             "#7201a8"
            ],
            [
             0.3333333333333333,
             "#9c179e"
            ],
            [
             0.4444444444444444,
             "#bd3786"
            ],
            [
             0.5555555555555556,
             "#d8576b"
            ],
            [
             0.6666666666666666,
             "#ed7953"
            ],
            [
             0.7777777777777778,
             "#fb9f3a"
            ],
            [
             0.8888888888888888,
             "#fdca26"
            ],
            [
             1,
             "#f0f921"
            ]
           ]
          },
          "colorway": [
           "#636efa",
           "#EF553B",
           "#00cc96",
           "#ab63fa",
           "#FFA15A",
           "#19d3f3",
           "#FF6692",
           "#B6E880",
           "#FF97FF",
           "#FECB52"
          ],
          "font": {
           "color": "#2a3f5f"
          },
          "geo": {
           "bgcolor": "white",
           "lakecolor": "white",
           "landcolor": "#E5ECF6",
           "showlakes": true,
           "showland": true,
           "subunitcolor": "white"
          },
          "hoverlabel": {
           "align": "left"
          },
          "hovermode": "closest",
          "mapbox": {
           "style": "light"
          },
          "paper_bgcolor": "white",
          "plot_bgcolor": "#E5ECF6",
          "polar": {
           "angularaxis": {
            "gridcolor": "white",
            "linecolor": "white",
            "ticks": ""
           },
           "bgcolor": "#E5ECF6",
           "radialaxis": {
            "gridcolor": "white",
            "linecolor": "white",
            "ticks": ""
           }
          },
          "scene": {
           "xaxis": {
            "backgroundcolor": "#E5ECF6",
            "gridcolor": "white",
            "gridwidth": 2,
            "linecolor": "white",
            "showbackground": true,
            "ticks": "",
            "zerolinecolor": "white"
           },
           "yaxis": {
            "backgroundcolor": "#E5ECF6",
            "gridcolor": "white",
            "gridwidth": 2,
            "linecolor": "white",
            "showbackground": true,
            "ticks": "",
            "zerolinecolor": "white"
           },
           "zaxis": {
            "backgroundcolor": "#E5ECF6",
            "gridcolor": "white",
            "gridwidth": 2,
            "linecolor": "white",
            "showbackground": true,
            "ticks": "",
            "zerolinecolor": "white"
           }
          },
          "shapedefaults": {
           "line": {
            "color": "#2a3f5f"
           }
          },
          "ternary": {
           "aaxis": {
            "gridcolor": "white",
            "linecolor": "white",
            "ticks": ""
           },
           "baxis": {
            "gridcolor": "white",
            "linecolor": "white",
            "ticks": ""
           },
           "bgcolor": "#E5ECF6",
           "caxis": {
            "gridcolor": "white",
            "linecolor": "white",
            "ticks": ""
           }
          },
          "title": {
           "x": 0.05
          },
          "xaxis": {
           "automargin": true,
           "gridcolor": "white",
           "linecolor": "white",
           "ticks": "",
           "title": {
            "standoff": 15
           },
           "zerolinecolor": "white",
           "zerolinewidth": 2
          },
          "yaxis": {
           "automargin": true,
           "gridcolor": "white",
           "linecolor": "white",
           "ticks": "",
           "title": {
            "standoff": 15
           },
           "zerolinecolor": "white",
           "zerolinewidth": 2
          }
         }
        },
        "title": {
         "text": "NVDA Adjusted Close Prices"
        },
        "xaxis": {
         "anchor": "y",
         "autorange": true,
         "domain": [
          0,
          1
         ],
         "range": [
          "2023-10-19",
          "2024-10-18"
         ],
         "title": {
          "text": "Date"
         },
         "type": "date"
        },
        "yaxis": {
         "anchor": "x",
         "autorange": true,
         "domain": [
          0,
          1
         ],
         "range": [
          34.88290447658963,
          143.50090747409396
         ],
         "title": {
          "text": "Adjusted Close Price"
         },
         "type": "linear"
        }
       }
      },
      "image/png": "[encoded data removed]",
      "text/html": [
       "<div>                            <div id=\"56a542f6-5edb-4f87-b2d2-1a8130486501\" class=\"plotly-graph-div\" style=\"height:525px; width:100%;\"></div>            <script type=\"text/javascript\">                require([\"plotly\"], function(Plotly) {                    window.PLOTLYENV=window.PLOTLYENV || {};                                    if (document.getElementById(\"56a542f6-5edb-4f87-b2d2-1a8130486501\")) {                    Plotly.newPlot(                        \"56a542f6-5edb-4f87-b2d2-1a8130486501\",                        [{\"hovertemplate\":\"Date=%{x}\\u003cbr\\u003eAdjusted Close Price=%{y}\\u003cextra\\u003e\\u003c\\u002fextra\\u003e\",\"legendgroup\":\"\",\"line\":{\"color\":\"#636efa\",\"dash\":\"solid\"},\"marker\":{\"symbol\":\"circle\"},\"mode\":\"lines\",\"name\":\"\",\"orientation\":\"v\",\"showlegend\":false,\"x\":[\"2024-10-18T00:00:00\",\"2024-10-17T00:00:00\",\"2024-10-16T00:00:00\",\"2024-10-15T00:00:00\",\"2024-10-14T00:00:00\",\"2024-10-11T00:00:00\",\"2024-10-10T00:00:00\",\"2024-10-09T00:00:00\",\"2024-10-08T00:00:00\",\"2024-10-07T00:00:00\",\"2024-10-04T00:00:00\",\"2024-10-03T00:00:00\",\"2024-10-02T00:00:00\",\"2024-10-01T00:00:00\",\"2024-09-30T00:00:00\",\"2024-09-27T00:00:00\",\"2024-09-26T00:00:00\",\"2024-09-25T00:00:00\",\"2024-09-24T00:00:00\",\"2024-09-23T00:00:00\",\"2024-09-20T00:00:00\",\"2024-09-19T00:00:00\",\"2024-09-18T00:00:00\",\"2024-09-17T00:00:00\",\"2024-09-16T00:00:00\",\"2024-09-13T00:00:00\",\"2024-09-12T00:00:00\",\"2024-09-11T00:00:00\",\"2024-09-10T00:00:00\",\"2024-09-09T00:00:00\",\"2024-09-06T00:00:00\",\"2024-09-05T00:00:00\",\"2024-09-04T00:00:00\",\"2024-09-03T00:00:00\",\"2024-08-30T00:00:00\",\"2024-08-29T00:00:00\",\"2024-08-28T00:00:00\",\"2024-08-27T00:00:00\",\"2024-08-26T00:00:00\",\"2024-08-23T00:00:00\",\"2024-08-22T00:00:00\",\"2024-08-21T00:00:00\",\"2024-08-20T00:00:00\",\"2024-08-19T00:00:00\",\"2024-08-16T00:00:00\",\"2024-08-15T00:00:00\",\"2024-08-14T00:00:00\",\"2024-08-13T00:00:00\",\"2024-08-12T00:00:00\",\"2024-08-09T00:00:00\",\"2024-08-08T00:00:00\",\"2024-08-07T00:00:00\",\"2024-08-06T00:00:00\",\"2024-08-05T00:00:00\",\"2024-08-02T00:00:00\",\"2024-08-01T00:00:00\",\"2024-07-31T00:00:00\",\"2024-07-30T00:00:00\",\"2024-07-29T00:00:00\",\"2024-07-26T00:00:00\",\"2024-07-25T00:00:00\",\"2024-07-24T00:00:00\",\"2024-07-23T00:00:00\",\"2024-07-22T00:00:00\",\"2024-07-19T00:00:00\",\"2024-07-18T00:00:00\",\"2024-07-17T00:00:00\",\"2024-07-16T00:00:00\",\"2024-07-15T00:00:00\",\"2024-07-12T00:00:00\",\"2024-07-11T00:00:00\",\"2024-07-10T00:00:00\",\"2024-07-09T00:00:00\",\"2024-07-08T00:00:00\",\"2024-07-05T00:00:00\",\"2024-07-03T00:00:00\",\"2024-07-02T00:00:00\",\"2024-07-01T00:00:00\",\"2024-06-28T00:00:00\",\"2024-06-27T00:00:00\",\"2024-06-26T00:00:00\",\"2024-06-25T00:00:00\",\"2024-06-24T00:00:00\",\"2024-06-21T00:00:00\",\"2024-06-20T00:00:00\",\"2024-06-18T00:00:00\",\"2024-06-17T00:00:00\",\"2024-06-14T00:00:00\",\"2024-06-13T00:00:00\",\"2024-06-12T00:00:00\",\"2024-06-11T00:00:00\",\"2024-06-10T00:00:00\",\"2024-06-07T00:00:00\",\"2024-06-06T00:00:00\",\"2024-06-05T00:00:00\",\"2024-06-04T00:00:00\",\"2024-06-03T00:00:00\",\"2024-05-31T00:00:00\",\"2024-05-30T00:00:00\",\"2024-05-29T00:00:00\",\"2024-05-28T00:00:00\",\"2024-05-24T00:00:00\",\"2024-05-23T00:00:00\",\"2024-05-22T00:00:00\",\"2024-05-21T00:00:00\",\"2024-05-20T00:00:00\",\"2024-05-17T00:00:00\",\"2024-05-16T00:00:00\",\"2024-05-15T00:00:00\",\"2024-05-14T00:00:00\",\"2024-05-13T00:00:00\",\"2024-05-10T00:00:00\",\"2024-05-09T00:00:00\",\"2024-05-08T00:00:00\",\"2024-05-07T00:00:00\",\"2024-05-06T00:00:00\",\"2024-05-03T00:00:00\",\"2024-05-02T00:00:00\",\"2024-05-01T00:00:00\",\"2024-04-30T00:00:00\",\"2024-04-29T00:00:00\",\"2024-04-26T00:00:00\",\"2024-04-25T00:00:00\",\"2024-04-24T00:00:00\",\"2024-04-23T00:00:00\",\"2024-04-22T00:00:00\",\"2024-04-19T00:00:00\",\"2024-04-18T00:00:00\",\"2024-04-17T00:00:00\",\"2024-04-16T00:00:00\",\"2024-04-15T00:00:00\",\"2024-04-12T00:00:00\",\"2024-04-11T00:00:00\",\"2024-04-10T00:00:00\",\"2024-04-09T00:00:00\",\"2024-04-08T00:00:00\",\"2024-04-05T00:00:00\",\"2024-04-04T00:00:00\",\"2024-04-03T00:00:00\",\"2024-04-02T00:00:00\",\"2024-04-01T00:00:00\",\"2024-03-28T00:00:00\",\"2024-03-27T00:00:00\",\"2024-03-26T00:00:00\",\"2024-03-25T00:00:00\",\"2024-03-22T00:00:00\",\"2024-03-21T00:00:00\",\"2024-03-20T00:00:00\",\"2024-03-19T00:00:00\",\"2024-03-18T00:00:00\",\"2024-03-15T00:00:00\",\"2024-03-14T00:00:00\",\"2024-03-13T00:00:00\",\"2024-03-12T00:00:00\",\"2024-03-11T00:00:00\",\"2024-03-08T00:00:00\",\"2024-03-07T00:00:00\",\"2024-03-06T00:00:00\",\"2024-03-05T00:00:00\",\"2024-03-04T00:00:00\",\"2024-03-01T00:00:00\",\"2024-02-29T00:00:00\",\"2024-02-28T00:00:00\",\"2024-02-27T00:00:00\",\"2024-02-26T00:00:00\",\"2024-02-23T00:00:00\",\"2024-02-22T00:00:00\",\"2024-02-21T00:00:00\",\"2024-02-20T00:00:00\",\"2024-02-16T00:00:00\",\"2024-02-15T00:00:00\",\"2024-02-14T00:00:00\",\"2024-02-13T00:00:00\",\"2024-02-12T00:00:00\",\"2024-02-09T00:00:00\",\"2024-02-08T00:00:00\",\"2024-02-07T00:00:00\",\"2024-02-06T00:00:00\",\"2024-02-05T00:00:00\",\"2024-02-02T00:00:00\",\"2024-02-01T00:00:00\",\"2024-01-31T00:00:00\",\"2024-01-30T00:00:00\",\"2024-01-29T00:00:00\",\"2024-01-26T00:00:00\",\"2024-01-25T00:00:00\",\"2024-01-24T00:00:00\",\"2024-01-23T00:00:00\",\"2024-01-22T00:00:00\",\"2024-01-19T00:00:00\",\"2024-01-18T00:00:00\",\"2024-01-17T00:00:00\",\"2024-01-16T00:00:00\",\"2024-01-12T00:00:00\",\"2024-01-11T00:00:00\",\"2024-01-10T00:00:00\",\"2024-01-09T00:00:00\",\"2024-01-08T00:00:00\",\"2024-01-05T00:00:00\",\"2024-01-04T00:00:00\",\"2024-01-03T00:00:00\",\"2024-01-02T00:00:00\",\"2023-12-29T00:00:00\",\"2023-12-28T00:00:00\",\"2023-12-27T00:00:00\",\"2023-12-26T00:00:00\",\"2023-12-22T00:00:00\",\"2023-12-21T00:00:00\",\"2023-12-20T00:00:00\",\"2023-12-19T00:00:00\",\"2023-12-18T00:00:00\",\"2023-12-15T00:00:00\",\"2023-12-14T00:00:00\",\"2023-12-13T00:00:00\",\"2023-12-12T00:00:00\",\"2023-12-11T00:00:00\",\"2023-12-08T00:00:00\",\"2023-12-07T00:00:00\",\"2023-12-06T00:00:00\",\"2023-12-05T00:00:00\",\"2023-12-04T00:00:00\",\"2023-12-01T00:00:00\",\"2023-11-30T00:00:00\",\"2023-11-29T00:00:00\",\"2023-11-28T00:00:00\",\"2023-11-27T00:00:00\",\"2023-11-24T00:00:00\",\"2023-11-22T00:00:00\",\"2023-11-21T00:00:00\",\"2023-11-20T00:00:00\",\"2023-11-17T00:00:00\",\"2023-11-16T00:00:00\",\"2023-11-15T00:00:00\",\"2023-11-14T00:00:00\",\"2023-11-13T00:00:00\",\"2023-11-10T00:00:00\",\"2023-11-09T00:00:00\",\"2023-11-08T00:00:00\",\"2023-11-07T00:00:00\",\"2023-11-06T00:00:00\",\"2023-11-03T00:00:00\",\"2023-11-02T00:00:00\",\"2023-11-01T00:00:00\",\"2023-10-31T00:00:00\",\"2023-10-30T00:00:00\",\"2023-10-27T00:00:00\",\"2023-10-26T00:00:00\",\"2023-10-25T00:00:00\",\"2023-10-24T00:00:00\",\"2023-10-23T00:00:00\",\"2023-10-20T00:00:00\",\"2023-10-19T00:00:00\"],\"xaxis\":\"x\",\"y\":[138.0,136.92999267578125,135.72000122070312,131.60000610351562,138.07000732421875,134.8000030517578,134.80999755859375,132.64999389648438,132.88999938964844,127.72000122070312,124.91999816894531,122.8499984741211,118.8499984741211,117.0,121.44000244140625,121.4000015258789,124.04000091552734,123.51000213623047,120.87000274658203,116.26000213623047,116.0,117.87000274658203,113.37000274658203,115.58999633789062,116.77999877929688,119.0999984741211,119.13999938964844,116.9000015258789,108.09075164794922,106.46089172363281,102.82120513916016,107.2008285522461,106.20091247558594,107.99076080322266,119.35979461669922,117.57994079589844,125.59925842285156,128.28903198242188,126.44918060302734,129.3589324951172,123.72941589355469,128.489013671875,127.2391128540039,129.98887634277344,124.56934356689453,122.84949493408203,118.06990051269531,116.13006591796875,109.01067352294922,104.74104309082031,104.96102142333984,98.90154266357422,104.24108123779297,100.44140625,107.26081848144531,109.2006607055664,117.0099868774414,103.72113037109375,111.58045196533203,113.05032348632812,112.27039337158203,114.24022674560547,122.57951354980469,123.52943420410156,117.91991424560547,121.07963562011719,117.97990417480469,126.34918975830078,128.42901611328125,129.2289581298828,127.38910675048828,134.89846801757812,131.3687744140625,128.18902587890625,125.8192367553711,128.26902770996094,122.65950775146484,124.28936767578125,123.52943420410156,123.9793930053711,126.38919067382812,126.07920837402344,118.09989929199219,126.55917358398438,130.76881408691406,135.5684051513672,130.9687957763672,131.8687286376953,129.59890747070312,125.18928527832031,120.899658203125,121.76958465576172,120.86773681640625,120.97770690917969,122.41947174072266,116.41748046875,114.98072052001953,109.6146240234375,110.48147583007812,114.80574798583984,113.88190460205078,106.4511489868164,103.78160095214844,94.93408203125,95.37001037597656,94.76410675048828,92.46348571777344,94.34317779541016,94.61412811279297,91.34069061279297,90.38385009765625,89.86292266845703,88.73212432861328,90.39684295654297,90.538818359375,92.12454986572266,88.77411651611328,85.8026123046875,83.0270767211914,86.38751220703125,87.7422866821289,87.72029113769531,82.61814880371094,79.66364288330078,82.4091796875,79.50466918945312,76.18722534179688,84.65680694580078,84.02091217041016,87.40034484863281,85.98657989501953,88.17121124267578,90.6008071899414,87.02440643310547,85.33968353271484,87.11839294433594,87.99324798583984,85.89059448242188,88.94908142089844,89.43700408935547,90.34784698486328,90.34085083007812,90.23486328125,92.54547882080078,94.98606872558594,94.273193359375,91.41967010498047,90.35684967041016,89.38301849365234,88.44017028808594,87.822265625,87.92925262451172,90.87276458740234,91.89759826660156,85.7596206665039,87.5133285522461,92.65345764160156,88.68512725830078,85.9495849609375,85.21870422363281,82.26134490966797,79.09502410888672,77.6463394165039,78.68411254882812,79.07503509521484,78.80008697509766,78.52115631103516,67.45752716064453,69.43709564208984,72.59741973876953,72.64240264892578,73.8841552734375,72.1125259399414,72.23249816894531,72.1175308227539,69.62605285644531,70.08395385742188,68.20836639404297,69.31713104248047,66.14580535888672,63.01347732543945,61.5137939453125,62.760528564453125,62.451595306396484,61.017906188964844,61.60377502441406,61.34883499145508,59.86015701293945,59.64120101928711,59.47823715209961,57.094749450683594,56.04097366333008,56.369903564453125,54.69825744628906,54.810237884521484,54.33833694458008,53.12860107421875,52.24178695678711,49.086463928222656,47.98770523071289,47.55879211425781,48.15766525268555,49.511375427246094,49.511375427246094,49.406394958496094,49.26842498779297,48.81952667236328,48.9794921875,48.10067367553711,49.59335708618164,50.066253662109375,48.87950897216797,48.339622497558594,48.07768630981445,47.64677429199219,46.61699676513672,47.49580764770508,46.586002349853516,45.49323654174805,46.55601119995117,45.49623107910156,46.750850677490234,46.75585174560547,48.12544250488281,47.80653762817383,48.22740936279297,47.76155471801758,48.701263427734375,49.92889404296875,50.39375305175781,49.2830924987793,49.46503829956055,48.87321472167969,49.6409797668457,48.60529327392578,48.32038116455078,46.93579864501953,46.559913635253906,45.941104888916016,45.737159729003906,44.991390228271484,43.49283981323242,42.31220245361328,40.76766586303711,41.1485481262207,40.48775100708008,40.313804626464844,41.766361236572266,43.6497917175293,42.96200180053711,41.374481201171875,42.0882682800293],\"yaxis\":\"y\",\"type\":\"scatter\"}],                        {\"template\":{\"data\":{\"histogram2dcontour\":[{\"type\":\"histogram2dcontour\",\"colorbar\":{\"outlinewidth\":0,\"ticks\":\"\"},\"colorscale\":[[0.0,\"#0d0887\"],[0.1111111111111111,\"#46039f\"],[0.2222222222222222,\"#7201a8\"],[0.3333333333333333,\"#9c179e\"],[0.4444444444444444,\"#bd3786\"],[0.5555555555555556,\"#d8576b\"],[0.6666666666666666,\"#ed7953\"],[0.7777777777777778,\"#fb9f3a\"],[0.8888888888888888,\"#fdca26\"],[1.0,\"#f0f921\"]]}],\"choropleth\":[{\"type\":\"choropleth\",\"colorbar\":{\"outlinewidth\":0,\"ticks\":\"\"}}],\"histogram2d\":[{\"type\":\"histogram2d\",\"colorbar\":{\"outlinewidth\":0,\"ticks\":\"\"},\"colorscale\":[[0.0,\"#0d0887\"],[0.1111111111111111,\"#46039f\"],[0.2222222222222222,\"#7201a8\"],[0.3333333333333333,\"#9c179e\"],[0.4444444444444444,\"#bd3786\"],[0.5555555555555556,\"#d8576b\"],[0.6666666666666666,\"#ed7953\"],[0.7777777777777778,\"#fb9f3a\"],[0.8888888888888888,\"#fdca26\"],[1.0,\"#f0f921\"]]}],\"heatmap\":[{\"type\":\"heatmap\",\"colorbar\":{\"outlinewidth\":0,\"ticks\":\"\"},\"colorscale\":[[0.0,\"#0d0887\"],[0.1111111111111111,\"#46039f\"],[0.2222222222222222,\"#7201a8\"],[0.3333333333333333,\"#9c179e\"],[0.4444444444444444,\"#bd3786\"],[0.5555555555555556,\"#d8576b\"],[0.6666666666666666,\"#ed7953\"],[0.7777777777777778,\"#fb9f3a\"],[0.8888888888888888,\"#fdca26\"],[1.0,\"#f0f921\"]]}],\"heatmapgl\":[{\"type\":\"heatmapgl\",\"colorbar\":{\"outlinewidth\":0,\"ticks\":\"\"},\"colorscale\":[[0.0,\"#0d0887\"],[0.1111111111111111,\"#46039f\"],[0.2222222222222222,\"#7201a8\"],[0.3333333333333333,\"#9c179e\"],[0.4444444444444444,\"#bd3786\"],[0.5555555555555556,\"#d8576b\"],[0.6666666666666666,\"#ed7953\"],[0.7777777777777778,\"#fb9f3a\"],[0.8888888888888888,\"#fdca26\"],[1.0,\"#f0f921\"]]}],\"contourcarpet\":[{\"type\":\"contourcarpet\",\"colorbar\":{\"outlinewidth\":0,\"ticks\":\"\"}}],\"contour\":[{\"type\":\"contour\",\"colorbar\":{\"outlinewidth\":0,\"ticks\":\"\"},\"colorscale\":[[0.0,\"#0d0887\"],[0.1111111111111111,\"#46039f\"],[0.2222222222222222,\"#7201a8\"],[0.3333333333333333,\"#9c179e\"],[0.4444444444444444,\"#bd3786\"],[0.5555555555555556,\"#d8576b\"],[0.6666666666666666,\"#ed7953\"],[0.7777777777777778,\"#fb9f3a\"],[0.8888888888888888,\"#fdca26\"],[1.0,\"#f0f921\"]]}],\"surface\":[{\"type\":\"surface\",\"colorbar\":{\"outlinewidth\":0,\"ticks\":\"\"},\"colorscale\":[[0.0,\"#0d0887\"],[0.1111111111111111,\"#46039f\"],[0.2222222222222222,\"#7201a8\"],[0.3333333333333333,\"#9c179e\"],[0.4444444444444444,\"#bd3786\"],[0.5555555555555556,\"#d8576b\"],[0.6666666666666666,\"#ed7953\"],[0.7777777777777778,\"#fb9f3a\"],[0.8888888888888888,\"#fdca26\"],[1.0,\"#f0f921\"]]}],\"mesh3d\":[{\"type\":\"mesh3d\",\"colorbar\":{\"outlinewidth\":0,\"ticks\":\"\"}}],\"scatter\":[{\"fillpattern\":{\"fillmode\":\"overlay\",\"size\":10,\"solidity\":0.2},\"type\":\"scatter\"}],\"parcoords\":[{\"type\":\"parcoords\",\"line\":{\"colorbar\":{\"outlinewidth\":0,\"ticks\":\"\"}}}],\"scatterpolargl\":[{\"type\":\"scatterpolargl\",\"marker\":{\"colorbar\":{\"outlinewidth\":0,\"ticks\":\"\"}}}],\"bar\":[{\"error_x\":{\"color\":\"#2a3f5f\"},\"error_y\":{\"color\":\"#2a3f5f\"},\"marker\":{\"line\":{\"color\":\"#E5ECF6\",\"width\":0.5},\"pattern\":{\"fillmode\":\"overlay\",\"size\":10,\"solidity\":0.2}},\"type\":\"bar\"}],\"scattergeo\":[{\"type\":\"scattergeo\",\"marker\":{\"colorbar\":{\"outlinewidth\":0,\"ticks\":\"\"}}}],\"scatterpolar\":[{\"type\":\"scatterpolar\",\"marker\":{\"colorbar\":{\"outlinewidth\":0,\"ticks\":\"\"}}}],\"histogram\":[{\"marker\":{\"pattern\":{\"fillmode\":\"overlay\",\"size\":10,\"solidity\":0.2}},\"type\":\"histogram\"}],\"scattergl\":[{\"type\":\"scattergl\",\"marker\":{\"colorbar\":{\"outlinewidth\":0,\"ticks\":\"\"}}}],\"scatter3d\":[{\"type\":\"scatter3d\",\"line\":{\"colorbar\":{\"outlinewidth\":0,\"ticks\":\"\"}},\"marker\":{\"colorbar\":{\"outlinewidth\":0,\"ticks\":\"\"}}}],\"scattermapbox\":[{\"type\":\"scattermapbox\",\"marker\":{\"colorbar\":{\"outlinewidth\":0,\"ticks\":\"\"}}}],\"scatterternary\":[{\"type\":\"scatterternary\",\"marker\":{\"colorbar\":{\"outlinewidth\":0,\"ticks\":\"\"}}}],\"scattercarpet\":[{\"type\":\"scattercarpet\",\"marker\":{\"colorbar\":{\"outlinewidth\":0,\"ticks\":\"\"}}}],\"carpet\":[{\"aaxis\":{\"endlinecolor\":\"#2a3f5f\",\"gridcolor\":\"white\",\"linecolor\":\"white\",\"minorgridcolor\":\"white\",\"startlinecolor\":\"#2a3f5f\"},\"baxis\":{\"endlinecolor\":\"#2a3f5f\",\"gridcolor\":\"white\",\"linecolor\":\"white\",\"minorgridcolor\":\"white\",\"startlinecolor\":\"#2a3f5f\"},\"type\":\"carpet\"}],\"table\":[{\"cells\":{\"fill\":{\"color\":\"#EBF0F8\"},\"line\":{\"color\":\"white\"}},\"header\":{\"fill\":{\"color\":\"#C8D4E3\"},\"line\":{\"color\":\"white\"}},\"type\":\"table\"}],\"barpolar\":[{\"marker\":{\"line\":{\"color\":\"#E5ECF6\",\"width\":0.5},\"pattern\":{\"fillmode\":\"overlay\",\"size\":10,\"solidity\":0.2}},\"type\":\"barpolar\"}],\"pie\":[{\"automargin\":true,\"type\":\"pie\"}]},\"layout\":{\"autotypenumbers\":\"strict\",\"colorway\":[\"#636efa\",\"#EF553B\",\"#00cc96\",\"#ab63fa\",\"#FFA15A\",\"#19d3f3\",\"#FF6692\",\"#B6E880\",\"#FF97FF\",\"#FECB52\"],\"font\":{\"color\":\"#2a3f5f\"},\"hovermode\":\"closest\",\"hoverlabel\":{\"align\":\"left\"},\"paper_bgcolor\":\"white\",\"plot_bgcolor\":\"#E5ECF6\",\"polar\":{\"bgcolor\":\"#E5ECF6\",\"angularaxis\":{\"gridcolor\":\"white\",\"linecolor\":\"white\",\"ticks\":\"\"},\"radialaxis\":{\"gridcolor\":\"white\",\"linecolor\":\"white\",\"ticks\":\"\"}},\"ternary\":{\"bgcolor\":\"#E5ECF6\",\"aaxis\":{\"gridcolor\":\"white\",\"linecolor\":\"white\",\"ticks\":\"\"},\"baxis\":{\"gridcolor\":\"white\",\"linecolor\":\"white\",\"ticks\":\"\"},\"caxis\":{\"gridcolor\":\"white\",\"linecolor\":\"white\",\"ticks\":\"\"}},\"coloraxis\":{\"colorbar\":{\"outlinewidth\":0,\"ticks\":\"\"}},\"colorscale\":{\"sequential\":[[0.0,\"#0d0887\"],[0.1111111111111111,\"#46039f\"],[0.2222222222222222,\"#7201a8\"],[0.3333333333333333,\"#9c179e\"],[0.4444444444444444,\"#bd3786\"],[0.5555555555555556,\"#d8576b\"],[0.6666666666666666,\"#ed7953\"],[0.7777777777777778,\"#fb9f3a\"],[0.8888888888888888,\"#fdca26\"],[1.0,\"#f0f921\"]],\"sequentialminus\":[[0.0,\"#0d0887\"],[0.1111111111111111,\"#46039f\"],[0.2222222222222222,\"#7201a8\"],[0.3333333333333333,\"#9c179e\"],[0.4444444444444444,\"#bd3786\"],[0.5555555555555556,\"#d8576b\"],[0.6666666666666666,\"#ed7953\"],[0.7777777777777778,\"#fb9f3a\"],[0.8888888888888888,\"#fdca26\"],[1.0,\"#f0f921\"]],\"diverging\":[[0,\"#8e0152\"],[0.1,\"#c51b7d\"],[0.2,\"#de77ae\"],[0.3,\"#f1b6da\"],[0.4,\"#fde0ef\"],[0.5,\"#f7f7f7\"],[0.6,\"#e6f5d0\"],[0.7,\"#b8e186\"],[0.8,\"#7fbc41\"],[0.9,\"#4d9221\"],[1,\"#276419\"]]},\"xaxis\":{\"gridcolor\":\"white\",\"linecolor\":\"white\",\"ticks\":\"\",\"title\":{\"standoff\":15},\"zerolinecolor\":\"white\",\"automargin\":true,\"zerolinewidth\":2},\"yaxis\":{\"gridcolor\":\"white\",\"linecolor\":\"white\",\"ticks\":\"\",\"title\":{\"standoff\":15},\"zerolinecolor\":\"white\",\"automargin\":true,\"zerolinewidth\":2},\"scene\":{\"xaxis\":{\"backgroundcolor\":\"#E5ECF6\",\"gridcolor\":\"white\",\"linecolor\":\"white\",\"showbackground\":true,\"ticks\":\"\",\"zerolinecolor\":\"white\",\"gridwidth\":2},\"yaxis\":{\"backgroundcolor\":\"#E5ECF6\",\"gridcolor\":\"white\",\"linecolor\":\"white\",\"showbackground\":true,\"ticks\":\"\",\"zerolinecolor\":\"white\",\"gridwidth\":2},\"zaxis\":{\"backgroundcolor\":\"#E5ECF6\",\"gridcolor\":\"white\",\"linecolor\":\"white\",\"showbackground\":true,\"ticks\":\"\",\"zerolinecolor\":\"white\",\"gridwidth\":2}},\"shapedefaults\":{\"line\":{\"color\":\"#2a3f5f\"}},\"annotationdefaults\":{\"arrowcolor\":\"#2a3f5f\",\"arrowhead\":0,\"arrowwidth\":1},\"geo\":{\"bgcolor\":\"white\",\"landcolor\":\"#E5ECF6\",\"subunitcolor\":\"white\",\"showland\":true,\"showlakes\":true,\"lakecolor\":\"white\"},\"title\":{\"x\":0.05},\"mapbox\":{\"style\":\"light\"}}},\"xaxis\":{\"anchor\":\"y\",\"domain\":[0.0,1.0],\"title\":{\"text\":\"Date\"}},\"yaxis\":{\"anchor\":\"x\",\"domain\":[0.0,1.0],\"title\":{\"text\":\"Adjusted Close Price\"}},\"legend\":{\"tracegroupgap\":0},\"title\":{\"text\":\"NVDA Adjusted Close Prices\"}},                        {\"responsive\": true}                    ).then(function(){\n",
       "                            \n",
       "var gd = document.getElementById('56a542f6-5edb-4f87-b2d2-1a8130486501');\n",
       "var x = new MutationObserver(function (mutations, observer) {{\n",
       "        var display = window.getComputedStyle(gd).display;\n",
       "        if (!display || display === 'none') {{\n",
       "            console.log([gd, 'removed!']);\n",
       "            Plotly.purge(gd);\n",
       "            observer.disconnect();\n",
       "        }}\n",
       "}});\n",
       "\n",
       "// Listen for the removal of the full notebook cells\n",
       "var notebookContainer = gd.closest('#notebook-container');\n",
       "if (notebookContainer) {{\n",
       "    x.observe(notebookContainer, {childList: true});\n",
       "}}\n",
       "\n",
       "// Listen for the clearing of the current output cell\n",
       "var outputEl = gd.closest('.output');\n",
       "if (outputEl) {{\n",
       "    x.observe(outputEl, {childList: true});\n",
       "}}\n",
       "\n",
       "                        })                };                });            </script>        </div>"
      ]
     },
     "metadata": {},
     "output_type": "display_data"
    },
    {
     "name": "stdout",
     "output_type": "stream",
     "text": [
      "The mean of the logarithmic returns of NVDA is -0.004731014527828166.\n",
      "The variance of NVDA is 0.0010460749372009843.\n",
      "The standard deviation of NVDA is 0.03234308175175928.\n",
      "The daily volatility of NVDA is 3.2343081751759284.\n",
      "The annualised volatility of NVDA for the period of 1y is 61.79137092494059.\n",
      "The current price (latest close price) of NVDA is 138.0\n"
     ]
    },
    {
     "name": "stdin",
     "output_type": "stream",
     "text": [
      "\n",
      "What is the strike price of the option that you are intending to purchase? 105\n",
      "How many days until the option expires? 303\n"
     ]
    },
    {
     "name": "stdout",
     "output_type": "stream",
     "text": [
      "The current risk-free rate (10-Year Treasury Yield) is: 4.07%\n"
     ]
    },
    {
     "name": "stdin",
     "output_type": "stream",
     "text": [
      "\n",
      "Is the option that you are interested in a call, a put option or both {Keys: call, put or both}? both\n"
     ]
    },
    {
     "name": "stdout",
     "output_type": "stream",
     "text": [
      "\n",
      "The theoretical price for the call option of NVDA at the strike price of 105.0 is 48.50866231366611\n",
      "\n",
      "The theoretical price for the put option of NVDA at the strike price of 105.0 is 12.01780509468572\n",
      "\n",
      "The closest expiration date found is 2025-08-15 00:00:00 which will expire in 299 days\n",
      "\n",
      "Call Options:\n",
      "         contractSymbol             lastTradeDate  strike  lastPrice   bid  \\\n",
      "11  NVDA250815C00105000 2024-10-18 19:46:34+00:00   105.0      45.95  45.7   \n",
      "\n",
      "     ask    change  percentChange  volume  openInterest  impliedVolatility  \\\n",
      "11  46.0 -1.630001      -3.425811       6          1549           0.603947   \n",
      "\n",
      "    inTheMoney contractSize currency  Implied Volatility as %  \n",
      "11        True      REGULAR      USD                60.394683  \n",
      "\n",
      "Put Options:\n",
      "         contractSymbol             lastTradeDate  strike  lastPrice   bid  \\\n",
      "11  NVDA250815P00105000 2024-10-18 19:30:29+00:00   105.0        8.7  8.65   \n",
      "\n",
      "    ask  change  percentChange  volume  openInterest  impliedVolatility  \\\n",
      "11  8.8   -0.02      -0.229363      29          2567            0.49262   \n",
      "\n",
      "    inTheMoney contractSize currency  Implied Volatility as %  \n",
      "11       False      REGULAR      USD                49.261982  \n",
      "\n",
      "The theoretical price of the call option is more than the last quoted price which means that the call option might be undervalued.\n",
      "\n",
      "The theoretical price of the put option is more than the last quoted price which means that the put option might be undervalued.\n"
     ]
    }
   ],
   "source": [
    "import pandas as pd\n",
    "import numpy as np\n",
    "import plotly.express as px\n",
    "import plotly.graph_objects as go\n",
    "import yfinance as yf\n",
    "from scipy.stats import norm\n",
    "from datetime import datetime\n",
    "\n",
    "ticker_symbol = input(\"For what ticker do you want historical data for?\")\n",
    "print(\"You have selected the ticker: \" + ticker_symbol.upper() + \".\")\n",
    "ticker = yf.Ticker(ticker_symbol)\n",
    "\n",
    "#converting period into number of days so that we can compute the yearly volatility\n",
    "\n",
    "\n",
    "period = input(\"For how long would you like to compute the volatility for?\")\n",
    "\n",
    "def convert_period_into_days(period):\n",
    "    #splitting the number into days\n",
    "    number = int(period[:-1]) #gets the numeric part\n",
    "    unit = period[-1]\n",
    "    #conversion logic\n",
    "    if unit == 'd': #days\n",
    "        return number\n",
    "    elif unit == 'w': # weeks\n",
    "        return number * 7\n",
    "    elif unit == 'mo': #months\n",
    "        return number * 30\n",
    "    elif unit == 'y': # years \n",
    "        return number * 365\n",
    "    else:\n",
    "        raise ValueError(\"Invalid Period Format. Supported units: d,w,mo,y.\")\n",
    "\n",
    "number = convert_period_into_days(period) #converts the period into days \n",
    "\n",
    "print(\"This program will now compute the volatility of \" + ticker_symbol.upper() + \" for a period of \" + str(period) + \" which is approximately \" + str(number) + \" days.\")\n",
    "\n",
    "\n",
    "historical_data = yf.download(ticker_symbol, period = period) #downloads the historical data for 1-year\n",
    "historical_data = historical_data.sort_values(\"Date\", ascending = False) #sorts the data in a descending order\n",
    "historical_data[\"Log Returns\"] = np.log(historical_data['Adj Close']/historical_data['Adj Close'].shift(1)) #calculates the log returns of the stock based on the adjusted close price\n",
    "\n",
    "print(historical_data.head()) #prints the first couple entries of the dataFrame\n",
    "print(\"\\nBelow is a line graph charting the adjusted close prices of \" + ticker_symbol.upper() + \" for a period of \" + period)\n",
    "\n",
    "fig1 = px.line(historical_data, x=historical_data.index, y=\"Adj Close\", \n",
    "               labels={\"x\": \"Date\", \"Adj Close\": \"Adjusted Close Price\"}, \n",
    "               title=f\"{ticker_symbol.upper()} Adjusted Close Prices\")\n",
    "fig1.show()\n",
    "\n",
    "#calculating mean of the logarithmic returns\n",
    "mean_log_returns = historical_data[\"Log Returns\"].mean()\n",
    "\n",
    "print(\"The mean of the logarithmic returns of \" + ticker_symbol.upper() + \" is \" + str(mean_log_returns) + \".\")\n",
    "\n",
    "#this will now calculate the deviations from mean of the stock returns\n",
    "\n",
    "historical_data['Deviation from Mean'] = (historical_data['Log Returns']-mean_log_returns)**2\n",
    "historical_data.head()\n",
    "\n",
    "#calculating the variance of the stock based on the deviations\n",
    "variance = historical_data[\"Deviation from Mean\"].mean()\n",
    "\n",
    "print(\"The variance of \" + ticker_symbol.upper() + \" is \" + str(variance) + \".\")\n",
    "\n",
    "std_dev = np.sqrt(variance) #calculates the standard deviation based on the square root of the variance\n",
    "print (\"The standard deviation of \" + ticker_symbol.upper() + \" is \" + str(std_dev) + \".\")\n",
    "\n",
    "daily_volatility = std_dev * 100 #multipliles by 100 to get daily volatility\n",
    "\n",
    "print(\"The daily volatility of \" + ticker_symbol.upper() + \" is \" + str(daily_volatility) + \".\")\n",
    "\n",
    "annualised_volatility = daily_volatility * np.sqrt(number) #calculates the one year volatility by multiplying daily volatility by the square root of 365 days \n",
    "\n",
    "print(\"The annualised volatility of \" + ticker_symbol.upper() + \" for the period of \" + str(period) + \" is \" + str(annualised_volatility) + \".\")\n",
    "\n",
    "#now to calculate the theoretical prices of the option chain based on the Black-Scholes Model\n",
    "\n",
    "current_price = ticker.history(period = \"1d\")['Close'].iloc[-1]\n",
    "\n",
    "print(\"The current price (latest close price) of \" + ticker_symbol.upper() + \" is \" + str(current_price))\n",
    "\n",
    "strike_price = float(input(\"\\nWhat is the strike price of the option that you are intending to purchase?\"))\n",
    "\n",
    "days_to_expiry = input(\"How many days until the option expires?\")\n",
    "calc_days_to_expiry_as_years = (int(days_to_expiry))/365 #converts the days to expiry as year\n",
    "\n",
    "ten_year_treasury_yield = \"^TNX\" #gets the yield on the 10-year treasury as the risk free rate\n",
    "\n",
    "treasury_data = yf.Ticker(ten_year_treasury_yield)\n",
    "\n",
    "ten_year_rate = treasury_data.history(period=\"1d\")['Close'].iloc[-1] #latest closing price\n",
    "print(f\"The current risk-free rate (10-Year Treasury Yield) is: {ten_year_rate:.2f}%\")\n",
    "risk_free_rate = ten_year_rate / 100\n",
    "\n",
    "call_or_put = input(\"\\nIs the option that you are interested in a call, a put option or both {Keys: call, put or both}?\")\n",
    "\n",
    "\n",
    "#calculating the d1 and d2\n",
    "d1 = (np.log(current_price/strike_price)+(risk_free_rate +0.5 * (annualised_volatility/100)**2)*calc_days_to_expiry_as_years)/((annualised_volatility/100) * np.sqrt(calc_days_to_expiry_as_years))\n",
    "d2 = d1 - (annualised_volatility/100) * np.sqrt(calc_days_to_expiry_as_years) #must divide annualised volatility / 100 to convert into decimal\n",
    "\n",
    "if call_or_put.lower() == \"both\":\n",
    "    call_option_price = (current_price * norm.cdf(d1)) - (strike_price * np.exp(-risk_free_rate * calc_days_to_expiry_as_years) * norm.cdf(d2))\n",
    "    print(\"\\nThe theoretical price for the call option of \" + ticker_symbol.upper() + \" at the strike price of \" + str(strike_price) + \" is \" + str(call_option_price))\n",
    "    put_option_price = (strike_price * np.exp(-risk_free_rate * calc_days_to_expiry_as_years) * norm.cdf(-d2)) - (current_price* norm.cdf(-d1))\n",
    "    print(\"\\nThe theoretical price for the put option of \" + ticker_symbol.upper() + \" at the strike price of \" + str(strike_price) + \" is \" + str(put_option_price))\n",
    "elif call_or_put.lower() == \"call\":\n",
    "    call_option_price = (current_price * norm.cdf(d1)) - (strike_price * np.exp(-risk_free_rate * calc_days_to_expiry_as_years) * norm.cdf(d2))\n",
    "    print(\"\\nThe theoretical price for the call option of \" + ticker_symbol.upper() + \" at the strike price of \" + str(strike_price) + \" is \" + str(call_option_price))\n",
    "\n",
    "elif call_or_put.lower() == \"put\":\n",
    "    put_option_price = (strike_price * np.exp(-risk_free_rate * calc_days_to_expiry_as_years) * norm.cdf(-d2)) - (current_price* norm.cdf(-d1))\n",
    "    print(\"\\nThe theoretical price for the put option of \" + ticker_symbol.upper() + \" at the strike price of \" + str(strike_price) + \" is \" + str(put_option_price))\n",
    "else:\n",
    "    raise ValueError (\"\\nOption type must either be a 'call' or a 'put\")\n",
    "\n",
    "#now to compare the theoretical price to the strike price to examine whether the option is undervalued or overvalued\n",
    "\n",
    "options_dates = ticker.options #gets the expiration dates for all the available options for the ticker\n",
    "#converting expiration date strings into datetime objects and calculates days to expiration\n",
    "\n",
    "current_date = datetime.now()\n",
    "\n",
    "min_days_diff = float('inf') #large number to find the min\n",
    "closest_expiration_date = None\n",
    "\n",
    "for date_str in options_dates:\n",
    "    expiration_date = datetime.strptime(date_str, '%Y-%m-%d')\n",
    "    days_to_expiration = (expiration_date - current_date).days\n",
    "\n",
    "\n",
    "    #checking if the expiration date is close to the input given by the user\n",
    "    if abs(days_to_expiration - int(days_to_expiry)) < min_days_diff:\n",
    "        min_days_diff = abs(days_to_expiration - int(days_to_expiry))\n",
    "        closest_expiration_date = expiration_date\n",
    "\n",
    "\n",
    "if closest_expiration_date is not None:\n",
    "    #calculating the days until the closeset expiration date\n",
    "    days_until_closest = (closest_expiration_date - current_date).days\n",
    "\n",
    "    #comparing the calculated days until closest expiration with user input\n",
    "    if days_until_closest == int(days_to_expiry):\n",
    "        print(\"\\nWe have found the option that you wish to analyse\")\n",
    "    else:\n",
    "        print(f\"\\nThe closest expiration date found is {closest_expiration_date} which will expire in {days_until_closest} days\")\n",
    "else:\n",
    "    print(\"No available expiration dates found\")\n",
    "\n",
    "\n",
    "option_chain = ticker.option_chain(closest_expiration_date.strftime('%Y-%m-%d')) #gets the option chain for the closest expiration date\n",
    "\n",
    "call_options = option_chain.calls\n",
    "put_options = option_chain.puts\n",
    "\n",
    "call_options['Implied Volatility as %'] = (call_options['impliedVolatility'] * 100)\n",
    "put_options['Implied Volatility as %'] = (put_options['impliedVolatility'] * 100)\n",
    "\n",
    "call_options = option_chain.calls[option_chain.calls['strike'] == strike_price]\n",
    "put_options = option_chain.puts[option_chain.puts['strike'] == strike_price]\n",
    "\n",
    "#displaying option chain information\n",
    "\n",
    "if call_or_put.lower() == \"both\":\n",
    "    if not call_options.empty:\n",
    "        print(\"\\nCall Options:\")\n",
    "        print(call_options)\n",
    "    else:\n",
    "        print(f\"No call options found for strike price {strike_price}.\")\n",
    "    \n",
    "    if not put_options.empty:\n",
    "        print(\"\\nPut Options:\")\n",
    "        print(put_options)\n",
    "    else:\n",
    "        print(f\"No put options found for strike price {strike_price}.\")\n",
    "        \n",
    "elif call_or_put.lower() == \"call\":\n",
    "    if not call_options.empty:\n",
    "        print(\"\\nCall Options:\")\n",
    "        print(call_options)\n",
    "    else:\n",
    "        print(f\"No call options found for strike price {strike_price}.\")\n",
    "        \n",
    "elif call_or_put.lower() == \"put\":\n",
    "    if not put_options.empty:\n",
    "        print(\"\\nPut Options:\")\n",
    "        print(put_options)\n",
    "    else:\n",
    "        print(f\"No put options found for strike price {strike_price}.\")\n",
    "        \n",
    "else:\n",
    "    print(\"No option chain found\")\n",
    "\n",
    "\n",
    "#option chain analysis through comparison between Black-Scholes Price and Theoretical Price\n",
    "\n",
    "if call_or_put.lower() == 'both':\n",
    "    if not call_options.empty:\n",
    "        last_price_call = call_options['lastPrice'].iloc[0] #gets the last price of the first call option\n",
    "        if last_price_call < call_option_price:\n",
    "            print(\"\\nThe theoretical price of the call option is more than the last quoted price which means that the call option might be undervalued.\")\n",
    "        elif last_price_call > call_option_price:\n",
    "            print(\"\\nThe theoretical price of the call option is less than the last quoted price which means that the call option might be overvalued.\")\n",
    "        elif last_price_call == call_option_price:\n",
    "            print(\"\\nThe theoretical price of the call option is equal to the last quoted price.\")\n",
    "        else:\n",
    "            print(\"\\nNo call options found for the specified strike price.\")\n",
    "\n",
    "    if not put_options.empty:\n",
    "        last_price_put = put_options['lastPrice'].iloc[0] #gets the last price of the first call option\n",
    "        if last_price_put < put_option_price:\n",
    "            print(\"\\nThe theoretical price of the put option is more than the last quoted price which means that the put option might be undervalued.\")\n",
    "        elif last_price_put > put_option_price:\n",
    "            print(\"\\nThe theoretical price of the put option is less than the last quoted price which means that the put option might be overvalued.\")\n",
    "        elif last_price_put == put_option_price:\n",
    "            print(\"\\nThe theoretical price of the put option is equal to the last quoted price.\")\n",
    "        else:\n",
    "            print(\"\\nNo put options found for the specified strike price.\")\n",
    "\n",
    "elif call_or_put.lower() == 'call':\n",
    "      if not call_options.empty:\n",
    "        last_price_call = call_options['lastPrice'].iloc[0] #gets the last price of the first call option\n",
    "        if last_price_call < call_option_price:\n",
    "            print(\"\\nThe theoretical price of the call option is more than the last quoted price which means that the call option might be undervalued.\")\n",
    "        elif last_price_call > call_option_price:\n",
    "            print(\"\\nThe theoretical price of the call option is less than the last quoted price which means that the call option might be overvalued.\")\n",
    "        elif last_price_call == call_option_price:\n",
    "            print(\"\\nThe theoretical price of the call option is equal to the last quoted price.\")\n",
    "        else:\n",
    "            print(\"\\nNo call options found for the specified strike price.\")\n",
    "\n",
    "elif call_or_put.lower() == 'put':\n",
    "     if not put_options.empty:\n",
    "        last_price_put = put_options['lastPrice'].iloc[0] #gets the last price of the first call option\n",
    "        if last_price_put < put_option_price:\n",
    "            print(\"\\nThe theoretical price of the put option is more than the last quoted price which means that the put option might be undervalued.\")\n",
    "        elif last_price_put > put_option_price:\n",
    "            print(\"\\nThe theoretical price of the put option is less than the last quoted price which means that the put option might be overvalued.\")\n",
    "        elif last_price_put == put_option_price:\n",
    "            print(\"\\nThe theoretical price of the put option is equal to the last quoted price.\")\n",
    "        else:\n",
    "            print(\"\\nNo put options found for the specified strike price.\")\n",
    "\n",
    "else:\n",
    "    print(\"\\nComparisons between the theoretical price of the options to the last quoted price cannot be calculated\")\n"
   ]
  },
  {
   "cell_type": "code",
   "execution_count": null,
   "id": "c50ea019-ef2b-457c-9ba1-4668b9692b80",
   "metadata": {},
   "outputs": [],
   "source": []
  }
 ],
 "metadata": {
  "kernelspec": {
   "display_name": "Python 3 (ipykernel)",
   "language": "python",
   "name": "python3"
  },
  "language_info": {
   "codemirror_mode": {
    "name": "ipython",
    "version": 3
   },
   "file_extension": ".py",
   "mimetype": "text/x-python",
   "name": "python",
   "nbconvert_exporter": "python",
   "pygments_lexer": "ipython3",
   "version": "3.12.4"
  }
 },
 "nbformat": 4,
 "nbformat_minor": 5
}
